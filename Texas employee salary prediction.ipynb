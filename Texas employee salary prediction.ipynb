{
 "cells": [
  {
   "cell_type": "markdown",
   "id": "e8a2da12-3d83-47d4-b02d-5aa842ad5f5a",
   "metadata": {},
   "source": [
    "## Texas Employee salary prediction"
   ]
  },
  {
   "cell_type": "markdown",
   "id": "8971cfe7-d69c-47ab-b2bc-85abba3e1dfe",
   "metadata": {},
   "source": [
    "##### Task 1: Data Analysis Report"
   ]
  },
  {
   "cell_type": "markdown",
   "id": "aa3bad20-2540-4c6d-95fd-b77ce3b78038",
   "metadata": {},
   "source": [
    "##### Task 2: Create a predictive model which will help theTexas state government  team to know the payroll information of employees of the state of Texas.  \n",
    "\n"
   ]
  },
  {
   "cell_type": "markdown",
   "id": "783e997d-6ef0-4b59-b86f-226ab89e2e75",
   "metadata": {},
   "source": [
    "##### Task 3:\n",
    "##### ●\tWho are the outliers in the salaries?\n",
    "##### ●\tWhat departments/roles have the biggest wage disparities between managers and employees?\n",
    "##### ●\tHave salaries and total compensations for some roles/ departments/ head-count changed over time?\n",
    " \n"
   ]
  },
  {
   "cell_type": "code",
   "execution_count": 39,
   "id": "d6560379-b686-47a4-b3e0-3b6f8fcbfdba",
   "metadata": {},
   "outputs": [
    {
     "name": "stderr",
     "output_type": "stream",
     "text": [
      "C:\\Users\\HP\\AppData\\Local\\Temp\\ipykernel_14748\\699683354.py:3: DtypeWarning: Columns (16,18,20) have mixed types. Specify dtype option on import or set low_memory=False.\n",
      "  data = pd.read_csv('salary.csv')\n"
     ]
    },
    {
     "name": "stdout",
     "output_type": "stream",
     "text": [
      "<class 'pandas.core.frame.DataFrame'>\n",
      "RangeIndex: 149481 entries, 0 to 149480\n",
      "Data columns (total 21 columns):\n",
      " #   Column                   Non-Null Count   Dtype  \n",
      "---  ------                   --------------   -----  \n",
      " 0   AGENCY                   149481 non-null  int64  \n",
      " 1   AGENCY NAME              149481 non-null  object \n",
      " 2   LAST NAME                149481 non-null  object \n",
      " 3   FIRST NAME               149481 non-null  object \n",
      " 4   MI                       149481 non-null  object \n",
      " 5   CLASS CODE               149481 non-null  object \n",
      " 6   CLASS TITLE              149481 non-null  object \n",
      " 7   ETHNICITY                149481 non-null  object \n",
      " 8   GENDER                   149481 non-null  object \n",
      " 9   STATUS                   149481 non-null  object \n",
      " 10  EMPLOY DATE              149481 non-null  object \n",
      " 11  HRLY RATE                149481 non-null  float64\n",
      " 12  HRS PER WK               149481 non-null  float64\n",
      " 13  MONTHLY                  149481 non-null  float64\n",
      " 14  ANNUAL                   149481 non-null  float64\n",
      " 15  STATE NUMBER             149481 non-null  int64  \n",
      " 16  duplicated               143 non-null     object \n",
      " 17  multiple_full_time_jobs  14 non-null      float64\n",
      " 18  combined_multiple_jobs   97 non-null      object \n",
      " 19  summed_annual_salary     16 non-null      float64\n",
      " 20  hide_from_search         16 non-null      object \n",
      "dtypes: float64(6), int64(2), object(13)\n",
      "memory usage: 23.9+ MB\n"
     ]
    },
    {
     "data": {
      "text/plain": [
       "(   AGENCY                                        AGENCY NAME  \\\n",
       " 0     241  COMPTROLLER OF PUBLIC ACCOUNTS, JUDICIARY SECT...   \n",
       " 1     212  OFFICE OF COURT ADMINISTRATION                ...   \n",
       " 2     241  COMPTROLLER OF PUBLIC ACCOUNTS, JUDICIARY SECT...   \n",
       " 3     212  OFFICE OF COURT ADMINISTRATION                ...   \n",
       " 4     696  TEXAS DEPARTMENT OF CRIMINAL JUSTICE          ...   \n",
       " \n",
       "                         LAST NAME                      FIRST NAME MI  \\\n",
       " 0  RUCKER                          MORTON                          V   \n",
       " 1  RUCKER                          MORTON                          V   \n",
       " 2  SPECIA JR                       JOHN                            J   \n",
       " 3  SPECIA JR                       JOHN                            J   \n",
       " 4  ONTIVEROS                       ESTHER                              \n",
       " \n",
       "   CLASS CODE                                        CLASS TITLE  \\\n",
       " 0   JD25      JUDGE, RETIRED                                ...   \n",
       " 1   3524      GENERAL COUNSEL IV                            ...   \n",
       " 2   JD25      JUDGE, RETIRED                                ...   \n",
       " 3   3524      GENERAL COUNSEL IV                            ...   \n",
       " 4   4504      CORREC  OFFICER IV                            ...   \n",
       " \n",
       "          ETHNICITY           GENDER                                    STATUS  \\\n",
       " 0  WHITE            MALE             URP - UNCLASSIFIED REGULAR PART-TIME       \n",
       " 1  WHITE            MALE             CTP - CLASSIFIED TEMPORARY PART-TIME       \n",
       " 2  WHITE            MALE             URP - UNCLASSIFIED REGULAR PART-TIME       \n",
       " 3  WHITE            MALE             CTP - CLASSIFIED TEMPORARY PART-TIME       \n",
       " 4  HISPANIC         FEMALE           CRF - CLASSIFIED REGULAR FULL-TIME         \n",
       " \n",
       "    ... HRLY RATE  HRS PER WK  MONTHLY     ANNUAL  STATE NUMBER  duplicated  \\\n",
       " 0  ...  75.96150        29.0  9545.82  114549.84        127717        True   \n",
       " 1  ...  81.04454         4.0  1404.77   16857.24        127717        True   \n",
       " 2  ...  75.96150        29.0  9545.82  114549.84         59115        True   \n",
       " 3  ...  81.04453         4.0  1404.77   16857.24         59115        True   \n",
       " 4  ...   0.00000        40.0  3284.27   39411.24        165030        True   \n",
       " \n",
       "   multiple_full_time_jobs  combined_multiple_jobs summed_annual_salary  \\\n",
       " 0                     NaN                     NaN            131407.08   \n",
       " 1                     NaN                     NaN                  NaN   \n",
       " 2                     NaN                     NaN            131407.08   \n",
       " 3                     NaN                     NaN                  NaN   \n",
       " 4                     1.0                     NaN                  NaN   \n",
       " \n",
       "    hide_from_search  \n",
       " 0               NaN  \n",
       " 1              True  \n",
       " 2               NaN  \n",
       " 3              True  \n",
       " 4               NaN  \n",
       " \n",
       " [5 rows x 21 columns],\n",
       " None)"
      ]
     },
     "execution_count": 39,
     "metadata": {},
     "output_type": "execute_result"
    }
   ],
   "source": [
    "import pandas as pd\n",
    "import numpy as np\n",
    "data = pd.read_csv('salary.csv')\n",
    "\n",
    "# Display the first few rows of the dataset\n",
    "data.head(), data.info()\n"
   ]
  },
  {
   "cell_type": "code",
   "execution_count": 40,
   "id": "082afa08-127f-4cec-8433-316c48b87058",
   "metadata": {},
   "outputs": [
    {
     "data": {
      "text/html": [
       "<div>\n",
       "<style scoped>\n",
       "    .dataframe tbody tr th:only-of-type {\n",
       "        vertical-align: middle;\n",
       "    }\n",
       "\n",
       "    .dataframe tbody tr th {\n",
       "        vertical-align: top;\n",
       "    }\n",
       "\n",
       "    .dataframe thead th {\n",
       "        text-align: right;\n",
       "    }\n",
       "</style>\n",
       "<table border=\"1\" class=\"dataframe\">\n",
       "  <thead>\n",
       "    <tr style=\"text-align: right;\">\n",
       "      <th></th>\n",
       "      <th>AGENCY</th>\n",
       "      <th>AGENCY NAME</th>\n",
       "      <th>LAST NAME</th>\n",
       "      <th>FIRST NAME</th>\n",
       "      <th>MI</th>\n",
       "      <th>CLASS CODE</th>\n",
       "      <th>CLASS TITLE</th>\n",
       "      <th>ETHNICITY</th>\n",
       "      <th>GENDER</th>\n",
       "      <th>STATUS</th>\n",
       "      <th>...</th>\n",
       "      <th>HRLY RATE</th>\n",
       "      <th>HRS PER WK</th>\n",
       "      <th>MONTHLY</th>\n",
       "      <th>ANNUAL</th>\n",
       "      <th>STATE NUMBER</th>\n",
       "      <th>duplicated</th>\n",
       "      <th>multiple_full_time_jobs</th>\n",
       "      <th>combined_multiple_jobs</th>\n",
       "      <th>summed_annual_salary</th>\n",
       "      <th>hide_from_search</th>\n",
       "    </tr>\n",
       "  </thead>\n",
       "  <tbody>\n",
       "    <tr>\n",
       "      <th>0</th>\n",
       "      <td>241</td>\n",
       "      <td>COMPTROLLER OF PUBLIC ACCOUNTS, JUDICIARY SECT...</td>\n",
       "      <td>RUCKER</td>\n",
       "      <td>MORTON</td>\n",
       "      <td>V</td>\n",
       "      <td>JD25</td>\n",
       "      <td>JUDGE, RETIRED                                ...</td>\n",
       "      <td>WHITE</td>\n",
       "      <td>MALE</td>\n",
       "      <td>URP - UNCLASSIFIED REGULAR PART-TIME</td>\n",
       "      <td>...</td>\n",
       "      <td>75.96150</td>\n",
       "      <td>29.0</td>\n",
       "      <td>9545.82</td>\n",
       "      <td>114549.84</td>\n",
       "      <td>127717</td>\n",
       "      <td>True</td>\n",
       "      <td>NaN</td>\n",
       "      <td>NaN</td>\n",
       "      <td>131407.08</td>\n",
       "      <td>NaN</td>\n",
       "    </tr>\n",
       "    <tr>\n",
       "      <th>1</th>\n",
       "      <td>212</td>\n",
       "      <td>OFFICE OF COURT ADMINISTRATION                ...</td>\n",
       "      <td>RUCKER</td>\n",
       "      <td>MORTON</td>\n",
       "      <td>V</td>\n",
       "      <td>3524</td>\n",
       "      <td>GENERAL COUNSEL IV                            ...</td>\n",
       "      <td>WHITE</td>\n",
       "      <td>MALE</td>\n",
       "      <td>CTP - CLASSIFIED TEMPORARY PART-TIME</td>\n",
       "      <td>...</td>\n",
       "      <td>81.04454</td>\n",
       "      <td>4.0</td>\n",
       "      <td>1404.77</td>\n",
       "      <td>16857.24</td>\n",
       "      <td>127717</td>\n",
       "      <td>True</td>\n",
       "      <td>NaN</td>\n",
       "      <td>NaN</td>\n",
       "      <td>NaN</td>\n",
       "      <td>True</td>\n",
       "    </tr>\n",
       "    <tr>\n",
       "      <th>2</th>\n",
       "      <td>241</td>\n",
       "      <td>COMPTROLLER OF PUBLIC ACCOUNTS, JUDICIARY SECT...</td>\n",
       "      <td>SPECIA JR</td>\n",
       "      <td>JOHN</td>\n",
       "      <td>J</td>\n",
       "      <td>JD25</td>\n",
       "      <td>JUDGE, RETIRED                                ...</td>\n",
       "      <td>WHITE</td>\n",
       "      <td>MALE</td>\n",
       "      <td>URP - UNCLASSIFIED REGULAR PART-TIME</td>\n",
       "      <td>...</td>\n",
       "      <td>75.96150</td>\n",
       "      <td>29.0</td>\n",
       "      <td>9545.82</td>\n",
       "      <td>114549.84</td>\n",
       "      <td>59115</td>\n",
       "      <td>True</td>\n",
       "      <td>NaN</td>\n",
       "      <td>NaN</td>\n",
       "      <td>131407.08</td>\n",
       "      <td>NaN</td>\n",
       "    </tr>\n",
       "    <tr>\n",
       "      <th>3</th>\n",
       "      <td>212</td>\n",
       "      <td>OFFICE OF COURT ADMINISTRATION                ...</td>\n",
       "      <td>SPECIA JR</td>\n",
       "      <td>JOHN</td>\n",
       "      <td>J</td>\n",
       "      <td>3524</td>\n",
       "      <td>GENERAL COUNSEL IV                            ...</td>\n",
       "      <td>WHITE</td>\n",
       "      <td>MALE</td>\n",
       "      <td>CTP - CLASSIFIED TEMPORARY PART-TIME</td>\n",
       "      <td>...</td>\n",
       "      <td>81.04453</td>\n",
       "      <td>4.0</td>\n",
       "      <td>1404.77</td>\n",
       "      <td>16857.24</td>\n",
       "      <td>59115</td>\n",
       "      <td>True</td>\n",
       "      <td>NaN</td>\n",
       "      <td>NaN</td>\n",
       "      <td>NaN</td>\n",
       "      <td>True</td>\n",
       "    </tr>\n",
       "    <tr>\n",
       "      <th>4</th>\n",
       "      <td>696</td>\n",
       "      <td>TEXAS DEPARTMENT OF CRIMINAL JUSTICE          ...</td>\n",
       "      <td>ONTIVEROS</td>\n",
       "      <td>ESTHER</td>\n",
       "      <td></td>\n",
       "      <td>4504</td>\n",
       "      <td>CORREC  OFFICER IV                            ...</td>\n",
       "      <td>HISPANIC</td>\n",
       "      <td>FEMALE</td>\n",
       "      <td>CRF - CLASSIFIED REGULAR FULL-TIME</td>\n",
       "      <td>...</td>\n",
       "      <td>0.00000</td>\n",
       "      <td>40.0</td>\n",
       "      <td>3284.27</td>\n",
       "      <td>39411.24</td>\n",
       "      <td>165030</td>\n",
       "      <td>True</td>\n",
       "      <td>1.0</td>\n",
       "      <td>NaN</td>\n",
       "      <td>NaN</td>\n",
       "      <td>NaN</td>\n",
       "    </tr>\n",
       "  </tbody>\n",
       "</table>\n",
       "<p>5 rows × 21 columns</p>\n",
       "</div>"
      ],
      "text/plain": [
       "   AGENCY                                        AGENCY NAME  \\\n",
       "0     241  COMPTROLLER OF PUBLIC ACCOUNTS, JUDICIARY SECT...   \n",
       "1     212  OFFICE OF COURT ADMINISTRATION                ...   \n",
       "2     241  COMPTROLLER OF PUBLIC ACCOUNTS, JUDICIARY SECT...   \n",
       "3     212  OFFICE OF COURT ADMINISTRATION                ...   \n",
       "4     696  TEXAS DEPARTMENT OF CRIMINAL JUSTICE          ...   \n",
       "\n",
       "                        LAST NAME                      FIRST NAME MI  \\\n",
       "0  RUCKER                          MORTON                          V   \n",
       "1  RUCKER                          MORTON                          V   \n",
       "2  SPECIA JR                       JOHN                            J   \n",
       "3  SPECIA JR                       JOHN                            J   \n",
       "4  ONTIVEROS                       ESTHER                              \n",
       "\n",
       "  CLASS CODE                                        CLASS TITLE  \\\n",
       "0   JD25      JUDGE, RETIRED                                ...   \n",
       "1   3524      GENERAL COUNSEL IV                            ...   \n",
       "2   JD25      JUDGE, RETIRED                                ...   \n",
       "3   3524      GENERAL COUNSEL IV                            ...   \n",
       "4   4504      CORREC  OFFICER IV                            ...   \n",
       "\n",
       "         ETHNICITY           GENDER                                    STATUS  \\\n",
       "0  WHITE            MALE             URP - UNCLASSIFIED REGULAR PART-TIME       \n",
       "1  WHITE            MALE             CTP - CLASSIFIED TEMPORARY PART-TIME       \n",
       "2  WHITE            MALE             URP - UNCLASSIFIED REGULAR PART-TIME       \n",
       "3  WHITE            MALE             CTP - CLASSIFIED TEMPORARY PART-TIME       \n",
       "4  HISPANIC         FEMALE           CRF - CLASSIFIED REGULAR FULL-TIME         \n",
       "\n",
       "   ... HRLY RATE  HRS PER WK  MONTHLY     ANNUAL  STATE NUMBER  duplicated  \\\n",
       "0  ...  75.96150        29.0  9545.82  114549.84        127717        True   \n",
       "1  ...  81.04454         4.0  1404.77   16857.24        127717        True   \n",
       "2  ...  75.96150        29.0  9545.82  114549.84         59115        True   \n",
       "3  ...  81.04453         4.0  1404.77   16857.24         59115        True   \n",
       "4  ...   0.00000        40.0  3284.27   39411.24        165030        True   \n",
       "\n",
       "  multiple_full_time_jobs  combined_multiple_jobs summed_annual_salary  \\\n",
       "0                     NaN                     NaN            131407.08   \n",
       "1                     NaN                     NaN                  NaN   \n",
       "2                     NaN                     NaN            131407.08   \n",
       "3                     NaN                     NaN                  NaN   \n",
       "4                     1.0                     NaN                  NaN   \n",
       "\n",
       "   hide_from_search  \n",
       "0               NaN  \n",
       "1              True  \n",
       "2               NaN  \n",
       "3              True  \n",
       "4               NaN  \n",
       "\n",
       "[5 rows x 21 columns]"
      ]
     },
     "execution_count": 40,
     "metadata": {},
     "output_type": "execute_result"
    }
   ],
   "source": [
    "data.head()"
   ]
  },
  {
   "cell_type": "code",
   "execution_count": 41,
   "id": "8359ff09-38af-41e1-8f50-8cda9e1d4934",
   "metadata": {},
   "outputs": [
    {
     "data": {
      "text/html": [
       "<div>\n",
       "<style scoped>\n",
       "    .dataframe tbody tr th:only-of-type {\n",
       "        vertical-align: middle;\n",
       "    }\n",
       "\n",
       "    .dataframe tbody tr th {\n",
       "        vertical-align: top;\n",
       "    }\n",
       "\n",
       "    .dataframe thead th {\n",
       "        text-align: right;\n",
       "    }\n",
       "</style>\n",
       "<table border=\"1\" class=\"dataframe\">\n",
       "  <thead>\n",
       "    <tr style=\"text-align: right;\">\n",
       "      <th></th>\n",
       "      <th>AGENCY</th>\n",
       "      <th>HRLY RATE</th>\n",
       "      <th>HRS PER WK</th>\n",
       "      <th>MONTHLY</th>\n",
       "      <th>ANNUAL</th>\n",
       "      <th>STATE NUMBER</th>\n",
       "      <th>multiple_full_time_jobs</th>\n",
       "      <th>summed_annual_salary</th>\n",
       "    </tr>\n",
       "  </thead>\n",
       "  <tbody>\n",
       "    <tr>\n",
       "      <th>count</th>\n",
       "      <td>149481.000000</td>\n",
       "      <td>149481.000000</td>\n",
       "      <td>149481.000000</td>\n",
       "      <td>149481.000000</td>\n",
       "      <td>149481.000000</td>\n",
       "      <td>1.494810e+05</td>\n",
       "      <td>14.0</td>\n",
       "      <td>16.000000</td>\n",
       "    </tr>\n",
       "    <tr>\n",
       "      <th>mean</th>\n",
       "      <td>545.736288</td>\n",
       "      <td>0.346488</td>\n",
       "      <td>39.714918</td>\n",
       "      <td>4226.184248</td>\n",
       "      <td>50714.210973</td>\n",
       "      <td>5.651930e+05</td>\n",
       "      <td>1.0</td>\n",
       "      <td>74303.955000</td>\n",
       "    </tr>\n",
       "    <tr>\n",
       "      <th>std</th>\n",
       "      <td>139.057691</td>\n",
       "      <td>4.211485</td>\n",
       "      <td>2.323855</td>\n",
       "      <td>2093.111691</td>\n",
       "      <td>25117.340292</td>\n",
       "      <td>4.786212e+05</td>\n",
       "      <td>0.0</td>\n",
       "      <td>51925.944282</td>\n",
       "    </tr>\n",
       "    <tr>\n",
       "      <th>min</th>\n",
       "      <td>101.000000</td>\n",
       "      <td>0.000000</td>\n",
       "      <td>1.000000</td>\n",
       "      <td>50.000000</td>\n",
       "      <td>600.000000</td>\n",
       "      <td>1.000000e+00</td>\n",
       "      <td>1.0</td>\n",
       "      <td>18000.000000</td>\n",
       "    </tr>\n",
       "    <tr>\n",
       "      <th>25%</th>\n",
       "      <td>529.000000</td>\n",
       "      <td>0.000000</td>\n",
       "      <td>40.000000</td>\n",
       "      <td>3019.840000</td>\n",
       "      <td>36238.080000</td>\n",
       "      <td>1.133340e+05</td>\n",
       "      <td>1.0</td>\n",
       "      <td>32962.500000</td>\n",
       "    </tr>\n",
       "    <tr>\n",
       "      <th>50%</th>\n",
       "      <td>530.000000</td>\n",
       "      <td>0.000000</td>\n",
       "      <td>40.000000</td>\n",
       "      <td>3720.170000</td>\n",
       "      <td>44642.040000</td>\n",
       "      <td>3.463730e+05</td>\n",
       "      <td>1.0</td>\n",
       "      <td>48063.300000</td>\n",
       "    </tr>\n",
       "    <tr>\n",
       "      <th>75%</th>\n",
       "      <td>696.000000</td>\n",
       "      <td>0.000000</td>\n",
       "      <td>40.000000</td>\n",
       "      <td>4865.810000</td>\n",
       "      <td>58389.720000</td>\n",
       "      <td>1.100500e+06</td>\n",
       "      <td>1.0</td>\n",
       "      <td>123751.770000</td>\n",
       "    </tr>\n",
       "    <tr>\n",
       "      <th>max</th>\n",
       "      <td>930.000000</td>\n",
       "      <td>117.788480</td>\n",
       "      <td>70.000000</td>\n",
       "      <td>46125.000000</td>\n",
       "      <td>553500.000000</td>\n",
       "      <td>1.271604e+06</td>\n",
       "      <td>1.0</td>\n",
       "      <td>171383.400000</td>\n",
       "    </tr>\n",
       "  </tbody>\n",
       "</table>\n",
       "</div>"
      ],
      "text/plain": [
       "              AGENCY      HRLY RATE     HRS PER WK        MONTHLY  \\\n",
       "count  149481.000000  149481.000000  149481.000000  149481.000000   \n",
       "mean      545.736288       0.346488      39.714918    4226.184248   \n",
       "std       139.057691       4.211485       2.323855    2093.111691   \n",
       "min       101.000000       0.000000       1.000000      50.000000   \n",
       "25%       529.000000       0.000000      40.000000    3019.840000   \n",
       "50%       530.000000       0.000000      40.000000    3720.170000   \n",
       "75%       696.000000       0.000000      40.000000    4865.810000   \n",
       "max       930.000000     117.788480      70.000000   46125.000000   \n",
       "\n",
       "              ANNUAL  STATE NUMBER  multiple_full_time_jobs  \\\n",
       "count  149481.000000  1.494810e+05                     14.0   \n",
       "mean    50714.210973  5.651930e+05                      1.0   \n",
       "std     25117.340292  4.786212e+05                      0.0   \n",
       "min       600.000000  1.000000e+00                      1.0   \n",
       "25%     36238.080000  1.133340e+05                      1.0   \n",
       "50%     44642.040000  3.463730e+05                      1.0   \n",
       "75%     58389.720000  1.100500e+06                      1.0   \n",
       "max    553500.000000  1.271604e+06                      1.0   \n",
       "\n",
       "       summed_annual_salary  \n",
       "count             16.000000  \n",
       "mean           74303.955000  \n",
       "std            51925.944282  \n",
       "min            18000.000000  \n",
       "25%            32962.500000  \n",
       "50%            48063.300000  \n",
       "75%           123751.770000  \n",
       "max           171383.400000  "
      ]
     },
     "execution_count": 41,
     "metadata": {},
     "output_type": "execute_result"
    }
   ],
   "source": [
    "data.describe()"
   ]
  },
  {
   "cell_type": "code",
   "execution_count": 42,
   "id": "658ed5e8-b03b-4949-8353-a7459cf6c8e3",
   "metadata": {},
   "outputs": [],
   "source": [
    "# Check for missing values and duplicates in the dataset\n",
    "missing_values = data.isnull().sum()\n",
    "duplicate_rows = data.duplicated().sum()"
   ]
  },
  {
   "cell_type": "markdown",
   "id": "c34fffe4-6fad-45d1-aff8-50b5aebc1e48",
   "metadata": {},
   "source": [
    " #### Data cleaning "
   ]
  },
  {
   "cell_type": "code",
   "execution_count": 43,
   "id": "420e8b30-db92-43d5-aa2f-cf9378c61ffd",
   "metadata": {},
   "outputs": [],
   "source": [
    "# Drop columns with a high proportion of missing values (e.g., more than 90% missing)\n",
    "threshold = 0.9 * len(data)\n",
    "columns_to_drop = missing_values[missing_values > threshold].index.tolist()\n",
    "cleaned_data = data.drop(columns=columns_to_drop, axis=1)\n",
    "\n"
   ]
  },
  {
   "cell_type": "code",
   "execution_count": 44,
   "id": "490a9bc3-9146-440f-a124-c8ef40f47c20",
   "metadata": {},
   "outputs": [
    {
     "name": "stderr",
     "output_type": "stream",
     "text": [
      "C:\\Users\\HP\\AppData\\Local\\Temp\\ipykernel_14748\\3562296767.py:2: UserWarning: Could not infer format, so each element will be parsed individually, falling back to `dateutil`. To ensure parsing is consistent and as-expected, please specify a format.\n",
      "  cleaned_data['EMPLOY DATE'] = pd.to_datetime(cleaned_data['EMPLOY DATE'], errors='coerce')\n"
     ]
    }
   ],
   "source": [
    "# Convert relevant columns to appropriate data types\n",
    "cleaned_data['EMPLOY DATE'] = pd.to_datetime(cleaned_data['EMPLOY DATE'], errors='coerce')"
   ]
  },
  {
   "cell_type": "code",
   "execution_count": 45,
   "id": "4f6ee0ba-c83d-42a3-a0b0-b34e52fa1037",
   "metadata": {},
   "outputs": [
    {
     "name": "stdout",
     "output_type": "stream",
     "text": [
      "<class 'pandas.core.frame.DataFrame'>\n",
      "RangeIndex: 149481 entries, 0 to 149480\n",
      "Data columns (total 16 columns):\n",
      " #   Column        Non-Null Count   Dtype         \n",
      "---  ------        --------------   -----         \n",
      " 0   AGENCY        149481 non-null  int64         \n",
      " 1   AGENCY NAME   149481 non-null  object        \n",
      " 2   LAST NAME     149481 non-null  object        \n",
      " 3   FIRST NAME    149481 non-null  object        \n",
      " 4   MI            149481 non-null  object        \n",
      " 5   CLASS CODE    149481 non-null  object        \n",
      " 6   CLASS TITLE   149481 non-null  object        \n",
      " 7   ETHNICITY     149481 non-null  object        \n",
      " 8   GENDER        149481 non-null  object        \n",
      " 9   STATUS        149481 non-null  object        \n",
      " 10  EMPLOY DATE   149481 non-null  datetime64[ns]\n",
      " 11  HRLY RATE     149481 non-null  float64       \n",
      " 12  HRS PER WK    149481 non-null  float64       \n",
      " 13  MONTHLY       149481 non-null  float64       \n",
      " 14  ANNUAL        149481 non-null  float64       \n",
      " 15  STATE NUMBER  149481 non-null  int64         \n",
      "dtypes: datetime64[ns](1), float64(4), int64(2), object(9)\n",
      "memory usage: 18.2+ MB\n"
     ]
    },
    {
     "data": {
      "text/plain": [
       "(AGENCY                          0\n",
       " AGENCY NAME                     0\n",
       " LAST NAME                       0\n",
       " FIRST NAME                      0\n",
       " MI                              0\n",
       " CLASS CODE                      0\n",
       " CLASS TITLE                     0\n",
       " ETHNICITY                       0\n",
       " GENDER                          0\n",
       " STATUS                          0\n",
       " EMPLOY DATE                     0\n",
       " HRLY RATE                       0\n",
       " HRS PER WK                      0\n",
       " MONTHLY                         0\n",
       " ANNUAL                          0\n",
       " STATE NUMBER                    0\n",
       " duplicated                 149338\n",
       " multiple_full_time_jobs    149467\n",
       " combined_multiple_jobs     149384\n",
       " summed_annual_salary       149465\n",
       " hide_from_search           149465\n",
       " dtype: int64,\n",
       " 0,\n",
       " ['duplicated',\n",
       "  'multiple_full_time_jobs',\n",
       "  'combined_multiple_jobs',\n",
       "  'summed_annual_salary',\n",
       "  'hide_from_search'],\n",
       " AGENCY          0\n",
       " AGENCY NAME     0\n",
       " LAST NAME       0\n",
       " FIRST NAME      0\n",
       " MI              0\n",
       " CLASS CODE      0\n",
       " CLASS TITLE     0\n",
       " ETHNICITY       0\n",
       " GENDER          0\n",
       " STATUS          0\n",
       " EMPLOY DATE     0\n",
       " HRLY RATE       0\n",
       " HRS PER WK      0\n",
       " MONTHLY         0\n",
       " ANNUAL          0\n",
       " STATE NUMBER    0\n",
       " dtype: int64,\n",
       " None)"
      ]
     },
     "execution_count": 45,
     "metadata": {},
     "output_type": "execute_result"
    }
   ],
   "source": [
    "# Summary after cleaning\n",
    "missing_values_after = cleaned_data.isnull().sum()\n",
    "cleaned_data_info = cleaned_data.info()\n",
    "\n",
    "missing_values, duplicate_rows, columns_to_drop, missing_values_after, cleaned_data_info"
   ]
  },
  {
   "cell_type": "markdown",
   "id": "807fa460-3071-4831-ac23-7f1c6821a8a8",
   "metadata": {},
   "source": [
    "##### Unnecessary or irrelevant columns with excessive missing values are removed.\n",
    "##### EMPLOY DATE is converted to datetime format for trend analysis.\n",
    "##### Missing values in critical columns like ANNUAL are addressed by dropping rows with null values."
   ]
  },
  {
   "cell_type": "markdown",
   "id": "93cd3786-c0de-40c9-9121-e2a45a75d5ea",
   "metadata": {},
   "source": [
    "#### Exploratory Data Analysis (EDA)"
   ]
  },
  {
   "cell_type": "code",
   "execution_count": 46,
   "id": "712698e9-8668-4f6a-8070-8f982dd95a61",
   "metadata": {},
   "outputs": [],
   "source": [
    "import matplotlib.pyplot as plt\n",
    "import seaborn as sns"
   ]
  },
  {
   "cell_type": "code",
   "execution_count": 47,
   "id": "0375321a-c1fe-4b92-acce-ee20bfa98dbd",
   "metadata": {},
   "outputs": [
    {
     "data": {
      "text/plain": [
       "<Figure size 1400x700 with 0 Axes>"
      ]
     },
     "execution_count": 47,
     "metadata": {},
     "output_type": "execute_result"
    },
    {
     "data": {
      "text/plain": [
       "<Figure size 1400x700 with 0 Axes>"
      ]
     },
     "metadata": {},
     "output_type": "display_data"
    }
   ],
   "source": [
    "# Set up visualizations\n",
    "plt.figure(figsize=(14, 7))"
   ]
  },
  {
   "cell_type": "code",
   "execution_count": 48,
   "id": "833edff6-77a9-4b4f-b14f-582d73066986",
   "metadata": {},
   "outputs": [
    {
     "data": {
      "image/png": "[encoded data removed]",
      "text/plain": [
       "<Figure size 640x480 with 1 Axes>"
      ]
     },
     "metadata": {},
     "output_type": "display_data"
    }
   ],
   "source": [
    "# Distribution of annual salaries\n",
    "sns.histplot(cleaned_data['ANNUAL'], kde=True, bins=50, color='blue')\n",
    "plt.title('Distribution of Annual Salaries', fontsize=16)\n",
    "plt.xlabel('Annual Salary', fontsize=14)\n",
    "plt.ylabel('Frequency', fontsize=14)\n",
    "plt.grid(axis='y')\n",
    "plt.show()"
   ]
  },
  {
   "cell_type": "code",
   "execution_count": 49,
   "id": "afa190c8-dd4a-485b-aa04-cbba62fdd46a",
   "metadata": {},
   "outputs": [
    {
     "data": {
      "image/png": "[encoded data removed]",
      "text/plain": [
       "<Figure size 1400x700 with 1 Axes>"
      ]
     },
     "metadata": {},
     "output_type": "display_data"
    }
   ],
   "source": [
    "# Boxplot to identify outliers in salaries\n",
    "plt.figure(figsize=(14, 7))\n",
    "sns.boxplot(x=cleaned_data['ANNUAL'], color='orange')\n",
    "plt.title('Boxplot of Annual Salaries', fontsize=16)\n",
    "plt.xlabel('Annual Salary', fontsize=14)\n",
    "plt.grid(axis='x')\n",
    "plt.show()"
   ]
  },
  {
   "cell_type": "markdown",
   "id": "e8f7d748-4333-4c86-b57d-6bc9453e5c31",
   "metadata": {},
   "source": [
    "##### A histogram shows the overall distribution of salaries, revealing skewness or clustering.\n",
    "##### A boxplot identifies salary outliers visually.\n"
   ]
  },
  {
   "cell_type": "markdown",
   "id": "1056a402-8d10-465d-86cb-81aaf693a642",
   "metadata": {},
   "source": [
    "#### Identifying Salary Outliers"
   ]
  },
  {
   "cell_type": "code",
   "execution_count": 50,
   "id": "b88e6681-638b-45ad-9f2d-cc70e9a5d34c",
   "metadata": {},
   "outputs": [],
   "source": [
    "# Identify outliers using the IQR method\n",
    "Q1 = cleaned_data['ANNUAL'].quantile(0.25)\n",
    "Q3 = cleaned_data['ANNUAL'].quantile(0.75)\n",
    "IQR = Q3 - Q1"
   ]
  },
  {
   "cell_type": "code",
   "execution_count": 51,
   "id": "965bf792-3fae-4fac-9fc5-fe61285a32c1",
   "metadata": {},
   "outputs": [],
   "source": [
    "# Define the thresholds for outliers\n",
    "lower_bound = Q1 - 1.5 * IQR\n",
    "upper_bound = Q3 + 1.5 * IQR\n",
    "\n"
   ]
  },
  {
   "cell_type": "code",
   "execution_count": 52,
   "id": "0cab0dd1-cca8-4eaf-b464-f0cedaa22b0a",
   "metadata": {},
   "outputs": [],
   "source": [
    "# Filter outliers\n",
    "outliers = cleaned_data[(cleaned_data['ANNUAL'] < lower_bound) | (cleaned_data['ANNUAL'] > upper_bound)]"
   ]
  },
  {
   "cell_type": "code",
   "execution_count": 53,
   "id": "8b81edbd-0282-44be-95a4-7bf99691f8d4",
   "metadata": {},
   "outputs": [],
   "source": [
    "# Summary of outliers\n",
    "outliers_summary = outliers[['FIRST NAME', 'LAST NAME', 'CLASS TITLE', 'ANNUAL']].sort_values(by='ANNUAL', ascending=False)\n",
    "outliers_count = outliers.shape[0]\n",
    "\n"
   ]
  },
  {
   "cell_type": "code",
   "execution_count": 54,
   "id": "a6ce6143-ab51-4bc5-961d-6ac5a9db7961",
   "metadata": {},
   "outputs": [
    {
     "data": {
      "text/plain": [
       "(3010.6200000000026,\n",
       " 91617.18,\n",
       " 9031,\n",
       "                             FIRST NAME                       LAST NAME  \\\n",
       " 83851   JAMES                           WILLSON                          \n",
       " 14793   JASE                            AUBY                             \n",
       " 144232  CHARLES                         TULL                             \n",
       " 15154   ERIC                            LANG                             \n",
       " 136727  BARNEY                          TIMMINS III                      \n",
       " \n",
       "                                               CLASS TITLE     ANNUAL  \n",
       " 83851   CHIEF SCIENTIFIC OFFICER                      ...  553500.00  \n",
       " 14793   CHIEF INVESTMENT OFFICER                      ...  450000.00  \n",
       " 144232  DIRECTOR OF INVESTMENTS                       ...  450000.00  \n",
       " 15154   SENIOR MANAGING DIRECTOR                      ...  391999.92  \n",
       " 136727  PSF CHIEF INVESTMENT OFFICER                  ...  384375.00  )"
      ]
     },
     "execution_count": 54,
     "metadata": {},
     "output_type": "execute_result"
    }
   ],
   "source": [
    "# Summary of outliers\n",
    "outliers_summary = outliers[['FIRST NAME', 'LAST NAME', 'CLASS TITLE', 'ANNUAL']].sort_values(by='ANNUAL', ascending=False)\n",
    "outliers_count = outliers.shape[0]\n",
    "\n",
    "lower_bound, upper_bound, outliers_count, outliers_summary.head()"
   ]
  },
  {
   "cell_type": "markdown",
   "id": "d9731c0f-de86-4871-bbab-0e5d2ee05424",
   "metadata": {},
   "source": [
    "##### This identifies employees with salaries significantly above or below the normal range.\n",
    "##### Outliers are defined as salaries outside the IQR thresholds.\n"
   ]
  },
  {
   "cell_type": "markdown",
   "id": "631a9ac6-34b1-4c6a-8800-1e65662454bb",
   "metadata": {},
   "source": [
    "#### Salary Statistics by Roles and Departments / Analyzing Wage Disparities Between Managers and Employees"
   ]
  },
  {
   "cell_type": "markdown",
   "id": "b283403b-7787-4481-be75-0b3f0f456fc6",
   "metadata": {},
   "source": [
    "##### Summarizes salaries across different roles to find average salaries and variances."
   ]
  },
  {
   "cell_type": "code",
   "execution_count": 55,
   "id": "ca6bfd82-bbdc-44f6-bed7-49c992edc0e6",
   "metadata": {},
   "outputs": [
    {
     "name": "stdout",
     "output_type": "stream",
     "text": [
      "Role Salary Summary:\n",
      "                                                    count       mean  \\\n",
      "CLASS TITLE                                                            \n",
      "CHIEF SCIENTIFIC OFFICER                              1.0  553500.00   \n",
      "DIRECTOR OF INVESTMENTS                               1.0  450000.00   \n",
      "PSF CHIEF INVESTMENT OFFICER                          1.0  384375.00   \n",
      "SENIOR MANAGING DIRECTOR                              6.0  319000.00   \n",
      "EXECUTIVE DIRECTOR FOR ERS                            1.0  316116.96   \n",
      "\n",
      "                                                             std        min  \\\n",
      "CLASS TITLE                                                                   \n",
      "CHIEF SCIENTIFIC OFFICER                                     NaN  553500.00   \n",
      "DIRECTOR OF INVESTMENTS                                      NaN  450000.00   \n",
      "PSF CHIEF INVESTMENT OFFICER                                 NaN  384375.00   \n",
      "SENIOR MANAGING DIRECTOR                            43648.556998  265000.08   \n",
      "EXECUTIVE DIRECTOR FOR ERS                                   NaN  316116.96   \n",
      "\n",
      "                                                          25%        50%  \\\n",
      "CLASS TITLE                                                                \n",
      "CHIEF SCIENTIFIC OFFICER                            553500.00  553500.00   \n",
      "DIRECTOR OF INVESTMENTS                             450000.00  450000.00   \n",
      "PSF CHIEF INVESTMENT OFFICER                        384375.00  384375.00   \n",
      "SENIOR MANAGING DIRECTOR                            303000.00  304999.98   \n",
      "EXECUTIVE DIRECTOR FOR ERS                          316116.96  316116.96   \n",
      "\n",
      "                                                          75%        max  \n",
      "CLASS TITLE                                                               \n",
      "CHIEF SCIENTIFIC OFFICER                            553500.00  553500.00  \n",
      "DIRECTOR OF INVESTMENTS                             450000.00  450000.00  \n",
      "PSF CHIEF INVESTMENT OFFICER                        384375.00  384375.00  \n",
      "SENIOR MANAGING DIRECTOR                            334750.02  391999.92  \n",
      "EXECUTIVE DIRECTOR FOR ERS                          316116.96  316116.96  \n"
     ]
    }
   ],
   "source": [
    "role_salary = cleaned_data.groupby('CLASS TITLE')['ANNUAL'].describe()\n",
    "print(\"Role Salary Summary:\")\n",
    "print(role_salary.sort_values(by='mean', ascending=False).head())\n"
   ]
  },
  {
   "cell_type": "markdown",
   "id": "cef52288-d22b-46c1-b1f7-6617e3963e81",
   "metadata": {},
   "source": [
    "##### Groups employees by their roles (CLASS TITLE) and calculates statistics like mean, median, and range.\n",
    "##### Highlights differences in pay across roles and departments.\n"
   ]
  },
  {
   "cell_type": "markdown",
   "id": "6de4fa81-68f1-4cc5-967a-3bbc19bfd3de",
   "metadata": {},
   "source": [
    "##### Feature Selection and Encoding"
   ]
  },
  {
   "cell_type": "code",
   "execution_count": 56,
   "id": "0dfeb1b3-060f-4748-89a9-6dfefaa8e3c2",
   "metadata": {},
   "outputs": [],
   "source": [
    "from sklearn.model_selection import train_test_split\n",
    "from sklearn.preprocessing import OneHotEncoder"
   ]
  },
  {
   "cell_type": "code",
   "execution_count": 57,
   "id": "df9c16b2-801b-456a-ac13-72155140caa1",
   "metadata": {},
   "outputs": [],
   "source": [
    "# Select features and target variable\n",
    "features = ['CLASS TITLE', 'HRLY RATE', 'HRS PER WK', 'AGENCY NAME', 'GENDER']\n",
    "target = 'ANNUAL'\n"
   ]
  },
  {
   "cell_type": "code",
   "execution_count": 60,
   "id": "9c7a2ad2-f210-42d1-82e0-65f1756e437b",
   "metadata": {},
   "outputs": [],
   "source": [
    "# Encode categorical variables\n",
    "encoder = OneHotEncoder(handle_unknown='ignore')\n",
    "features_encoded = encoder.fit_transform(cleaned_data[features])"
   ]
  },
  {
   "cell_type": "code",
   "execution_count": 63,
   "id": "169d1935-60f1-4efd-97fd-f2e2291bb4d1",
   "metadata": {},
   "outputs": [],
   "source": [
    "# Split data into training and testing sets\n",
    "X_train, X_test, y_train, y_test = train_test_split(features_encoded, \n",
    "                                                    cleaned_data[target], \n",
    "                                                    test_size=0.2, random_state=42)"
   ]
  },
  {
   "cell_type": "markdown",
   "id": "8dd17b35-34ef-43c1-8105-eb77466da7c6",
   "metadata": {},
   "source": [
    "##### Features such as CLASS TITLE, HRLY RATE, HRS PER WK, AGENCY NAME, and GENDER are selected as predictors.\n",
    "##### The dataset is split into training (80%) and testing (20%) subsets."
   ]
  },
  {
   "cell_type": "markdown",
   "id": "863c4f41-fafc-42d4-b3c6-53b5fdb791d7",
   "metadata": {},
   "source": [
    "#### Model Training"
   ]
  },
  {
   "cell_type": "markdown",
   "id": "f5ad31fb-7aa2-4823-bb5d-4e755c6bae57",
   "metadata": {},
   "source": [
    "##### Two models are used for salary prediction: Linear Regression and Random Forest Regressor."
   ]
  },
  {
   "cell_type": "code",
   "execution_count": 78,
   "id": "8a1be570-a73d-4606-a01d-16eb1c611a1a",
   "metadata": {},
   "outputs": [],
   "source": [
    "from sklearn.ensemble import RandomForestRegressor\n",
    "from sklearn.linear_model import LinearRegression\n",
    "from sklearn.metrics import mean_absolute_error, mean_squared_error, r2_score"
   ]
  },
  {
   "cell_type": "code",
   "execution_count": 79,
   "id": "6968e846-0fdd-42a0-9dd3-bf3323d5a395",
   "metadata": {},
   "outputs": [
    {
     "name": "stdout",
     "output_type": "stream",
     "text": [
      "\n",
      "--- Linear Regression Model ---\n"
     ]
    }
   ],
   "source": [
    "# Linear Regression Model\n",
    "print(\"\\n--- Linear Regression Model ---\")\n",
    "lr_model = LinearRegression()               # Initialize the Linear Regression model\n",
    "lr_model.fit(X_train, y_train)              # Train the model on the training data\n",
    "lr_predictions = lr_model.predict(X_test)  # Predict target values for the test data"
   ]
  },
  {
   "cell_type": "code",
   "execution_count": 80,
   "id": "e644f9e3-ef85-4124-8e74-60dfb9faff26",
   "metadata": {},
   "outputs": [
    {
     "name": "stdout",
     "output_type": "stream",
     "text": [
      "Mean Absolute Error: 3365.312288949681\n",
      "Mean Squared Error: 55025664.93208869\n",
      "R2 Score: 0.9143305077474077\n"
     ]
    }
   ],
   "source": [
    "# Evaluation Metrics for Linear Regression\n",
    "print(f\"Mean Absolute Error: {mean_absolute_error(y_test, lr_predictions)}\")\n",
    "print(f\"Mean Squared Error: {mean_squared_error(y_test, lr_predictions)}\")\n",
    "print(f\"R2 Score: {r2_score(y_test, lr_predictions)}\")"
   ]
  },
  {
   "cell_type": "code",
   "execution_count": 81,
   "id": "d15d8637-5971-4e8c-9cbb-de523aad9526",
   "metadata": {},
   "outputs": [
    {
     "name": "stdout",
     "output_type": "stream",
     "text": [
      "\n",
      "--- Random Forest Regressor Model ---\n"
     ]
    }
   ],
   "source": [
    "# Random Forest Regressor Model\n",
    "print(\"\\n--- Random Forest Regressor Model ---\")\n",
    "rf_model = RandomForestRegressor(random_state=42)  # Initialize the Random Forest model with a fixed random state\n",
    "rf_model.fit(X_train, y_train)                     # Train the model on the training data\n",
    "rf_predictions = rf_model.predict(X_test)         # Predict target values for the test data\n"
   ]
  },
  {
   "cell_type": "code",
   "execution_count": 82,
   "id": "bd8129ff-77a1-469a-ac75-2124ee8a1728",
   "metadata": {},
   "outputs": [
    {
     "name": "stdout",
     "output_type": "stream",
     "text": [
      "Mean Absolute Error: 3227.62439500334\n",
      "Mean Squared Error: 68418746.63302128\n",
      "R2 Score: 0.8934788104452043\n"
     ]
    }
   ],
   "source": [
    "# Evaluation Metrics for Random Forest\n",
    "print(f\"Mean Absolute Error: {mean_absolute_error(y_test, rf_predictions)}\")\n",
    "print(f\"Mean Squared Error: {mean_squared_error(y_test, rf_predictions)}\")\n",
    "print(f\"R2 Score: {r2_score(y_test, rf_predictions)}\")"
   ]
  },
  {
   "cell_type": "markdown",
   "id": "ef8c4861-936e-4b17-921f-fdf4cdda3dd2",
   "metadata": {},
   "source": [
    "\n",
    "##### The models are evaluated using metrics like Mean Absolute Error (MAE), Mean Squared Error (MSE), and R² Score."
   ]
  },
  {
   "cell_type": "markdown",
   "id": "6d7c9ac2-713f-4a67-89cf-19dcb6f07231",
   "metadata": {},
   "source": [
    "#### Conclusion\n",
    "##### Linear Regression performs better overall because:\n",
    "It has a significantly lower MSE.\n",
    "Its R² Score is higher, meaning it explains more of the variance in salaries.\n",
    "Although Random Forest has a slightly lower MAE, the difference is small and not enough to outweigh Linear Regression's advantages."
   ]
  },
  {
   "cell_type": "markdown",
   "id": "3df55f1e-ae08-4be3-a6ff-d51d10c51d0d",
   "metadata": {},
   "source": [
    "####  Investigating Salary Trends Over Time"
   ]
  },
  {
   "cell_type": "code",
   "execution_count": 87,
   "id": "ba2ed5f9-ef47-4d7b-b444-d0d977422417",
   "metadata": {},
   "outputs": [
    {
     "data": {
      "image/png": "[encoded data removed]",
      "text/plain": [
       "<Figure size 1000x600 with 1 Axes>"
      ]
     },
     "metadata": {},
     "output_type": "display_data"
    }
   ],
   "source": [
    "cleaned_data['Year'] = cleaned_data['EMPLOY DATE'].dt.year\n",
    "avg_salary_per_year = cleaned_data.groupby('Year')['ANNUAL'].mean()\n",
    "\n",
    "plt.figure(figsize=(10, 6))\n",
    "avg_salary_per_year.plot(kind='line', marker='o', color='green')\n",
    "plt.title('Average Annual Salary Over Time')\n",
    "plt.xlabel('Year')\n",
    "plt.ylabel('Average Salary')\n",
    "plt.grid()\n",
    "plt.show()\n"
   ]
  },
  {
   "cell_type": "markdown",
   "id": "9519c4cf-6c4f-4687-b130-9535448e0ce7",
   "metadata": {},
   "source": [
    "##### Extracts the year from EMPLOY DATE and calculates average annual salary per year.\n",
    "Visualizes salary trends over time, showing how salaries have changed historically."
   ]
  },
  {
   "cell_type": "markdown",
   "id": "c942cb87-9fc6-4194-b448-ec0400941265",
   "metadata": {},
   "source": [
    "#### Report on Challenges Faced"
   ]
  },
  {
   "cell_type": "markdown",
   "id": "b03aa0ac-f2c9-457b-a84e-f6a2735c6f5f",
   "metadata": {},
   "source": [
    "#### 1.Missing Data"
   ]
  },
  {
   "cell_type": "markdown",
   "id": "1de13f6b-6d6b-4217-8743-8bd6a296081e",
   "metadata": {},
   "source": [
    "##### Challenge:\n",
    "Some columns (e.g., duplicated, multiple_full_time_jobs) had a high proportion of missing values (>90%).\n",
    "Key columns like EMPLOY DATE and ANNUAL had some missing values, which could affect analysis and modeling.\n",
    "##### Techniques Used:\n",
    "Columns with excessive missing values were dropped as they added no significant value to the analysis.\n",
    "Rows with missing values in critical columns like ANNUAL were removed.\n",
    "##### Reason:\n",
    "Dropping irrelevant columns reduces noise and ensures model accuracy.\n",
    "Removing rows with missing target values avoids errors in predictive modeling."
   ]
  },
  {
   "cell_type": "markdown",
   "id": "4b0d3533-d5e8-4243-921f-19f7619ef168",
   "metadata": {},
   "source": [
    "#### 2.Outliers in Salaries"
   ]
  },
  {
   "cell_type": "markdown",
   "id": "f0a8356d-58ba-4216-9986-9cfc6aa6f1ff",
   "metadata": {},
   "source": [
    "##### Challenge:\n",
    "Some employees had salaries significantly higher or lower than the majority, which could skew model performance.\n",
    "##### Techniques Used:\n",
    "Identified outliers using the Interquartile Range (IQR) method.\n",
    "Visualized outliers using boxplots.\n",
    "##### Reason:\n",
    "Identifying and understanding outliers is essential to decide whether to remove them or treat them separately in modeling."
   ]
  },
  {
   "cell_type": "markdown",
   "id": "8d130ace-57b1-4f3c-a06a-fc8918b39da6",
   "metadata": {},
   "source": [
    "#### 3. Categorical Data"
   ]
  },
  {
   "cell_type": "markdown",
   "id": "d34cf20f-8b2d-4ac6-b8d8-1f4ec7d39cec",
   "metadata": {},
   "source": [
    "\n",
    "##### Challenge:\n",
    "Features like CLASS TITLE, AGENCY NAME, and GENDER were categorical and needed to be converted into numerical format for machine learning models.\n",
    "##### Techniques Used:\n",
    "Used One-Hot Encoding to transform categorical variables into numerical features.\n",
    "##### Reason:\n",
    "One-Hot Encoding ensures categorical data is represented correctly, avoiding biases introduced by ordinal encoding.\n"
   ]
  },
  {
   "cell_type": "markdown",
   "id": "01967d65-e8ea-40b1-bcb2-c2036265a176",
   "metadata": {},
   "source": [
    "#### 4. Feature Selection"
   ]
  },
  {
   "cell_type": "markdown",
   "id": "fb8cadfb-23b2-4600-8818-be2f8608a071",
   "metadata": {},
   "source": [
    "##### Challenge:\n",
    "Some features like HRS PER WK and HRLY RATE had overlapping information with ANNUAL.\n",
    "##### Techniques Used:\n",
    "Selected features with direct influence on salary prediction, such as job role, hourly rate, and hours worked.\n",
    "##### Reason:\n",
    "Avoiding redundant or correlated features improves model efficiency and interpretability."
   ]
  },
  {
   "cell_type": "markdown",
   "id": "5edf70ac-d988-4307-b32c-d0c806f3ffb8",
   "metadata": {},
   "source": [
    "#### 5.Model Performance"
   ]
  },
  {
   "cell_type": "markdown",
   "id": "7350d62d-bd9e-4b85-9750-beb8ddd868a8",
   "metadata": {},
   "source": [
    "##### Challenge:\n",
    "The two models (Linear Regression and Random Forest) showed differences in their strengths, requiring careful evaluation.\n",
    "##### Techniques Used:\n",
    "Evaluated models using multiple metrics: MAE, MSE, and R².\n",
    "Chose Linear Regression as the best model due to its higher R² score and lower MSE.\n",
    "##### Reason:\n",
    "Selecting the best model based on metrics ensures reliable predictions in production."
   ]
  },
  {
   "cell_type": "markdown",
   "id": "031f5e1c-4ec4-4f8c-afcb-c69fa4fff3f2",
   "metadata": {},
   "source": [
    "#### 6.Salary Trends Over Time"
   ]
  },
  {
   "cell_type": "markdown",
   "id": "113d0356-8e61-48d9-bf03-5f40ff2521ba",
   "metadata": {},
   "source": [
    "##### Challenge:\n",
    "Salary trends required extracting and analyzing time-based data from the EMPLOY DATE column.\n",
    "##### Techniques Used:\n",
    "Converted EMPLOY DATE to datetime format and extracted the year for trend analysis.\n",
    "##### Reason:\n",
    "Understanding historical salary trends provides valuable insights for strategic planning."
   ]
  },
  {
   "cell_type": "markdown",
   "id": "37cf16dc-7bac-4fb0-aa33-b29cc51f33be",
   "metadata": {},
   "source": [
    "#### Summary"
   ]
  },
  {
   "cell_type": "markdown",
   "id": "110a0b61-ae25-479f-87d1-7fc28aa7acdf",
   "metadata": {},
   "source": [
    "The challenges faced were typical of real-world data projects and required thoughtful preprocessing and analysis. By applying appropriate techniques like handling missing data, encoding categorical variables, addressing outliers, and evaluating models rigorously."
   ]
  },
  {
   "cell_type": "code",
   "execution_count": null,
   "id": "bcfc7dcb-de06-4690-8e20-eccc0a51b16c",
   "metadata": {},
   "outputs": [],
   "source": []
  }
 ],
 "metadata": {
  "kernelspec": {
   "display_name": "Python 3 (ipykernel)",
   "language": "python",
   "name": "python3"
  },
  "language_info": {
   "codemirror_mode": {
    "name": "ipython",
    "version": 3
   },
   "file_extension": ".py",
   "mimetype": "text/x-python",
   "name": "python",
   "nbconvert_exporter": "python",
   "pygments_lexer": "ipython3",
   "version": "3.12.1"
  }
 },
 "nbformat": 4,
 "nbformat_minor": 5
}
